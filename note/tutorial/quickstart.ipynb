{
 "cells": [
  {
   "cell_type": "markdown",
   "metadata": {
    "Collapsed": "false"
   },
   "source": [
    "# Quickstart"
   ]
  },
  {
   "cell_type": "markdown",
   "metadata": {
    "Collapsed": "false"
   },
   "source": [
    "## Preliminaries"
   ]
  },
  {
   "cell_type": "markdown",
   "metadata": {
    "Collapsed": "false"
   },
   "source": [
    "### Imports"
   ]
  },
  {
   "cell_type": "code",
   "execution_count": 1,
   "metadata": {
    "Collapsed": "false"
   },
   "outputs": [
    {
     "name": "stderr",
     "output_type": "stream",
     "text": [
      "/cw/dtaijupiter/NoCsBack/dtai/elia/mercs/src/mercs/core/Mercs.py:25: UserWarning: xgboost not found, you cannot use this as an underlying learner.\n",
      "  warnings.warn(\"xgboost not found, you cannot use this as an underlying learner.\")\n",
      "/cw/dtaijupiter/NoCsBack/dtai/elia/mercs/src/mercs/core/Mercs.py:32: UserWarning: lightgbm not found, you cannot use this as an underlying learner.\n",
      "  warnings.warn(\"lightgbm not found, you cannot use this as an underlying learner.\")\n",
      "/cw/dtaijupiter/NoCsBack/dtai/elia/mercs/src/mercs/core/Mercs.py:39: UserWarning: catboost not found, you cannot use this as an underlying learner.\n",
      "  warnings.warn(\"catboost not found, you cannot use this as an underlying learner.\")\n",
      "/cw/dtaijupiter/NoCsBack/dtai/elia/mercs/src/mercs/core/Mercs.py:46: UserWarning: wekalearn not found, you cannot use this as an underlying learner.\n",
      "  warnings.warn(\"wekalearn not found, you cannot use this as an underlying learner.\")\n",
      "/cw/dtaijupiter/NoCsBack/dtai/elia/mercs/src/mercs/algo/induction.py:25: UserWarning: xgboost not found, you cannot use this as an underlying learner.\n",
      "  warnings.warn(\"xgboost not found, you cannot use this as an underlying learner.\")\n",
      "/cw/dtaijupiter/NoCsBack/dtai/elia/mercs/src/mercs/algo/induction.py:32: UserWarning: lightgbm not found, you cannot use this as an underlying learner.\n",
      "  warnings.warn(\"lightgbm not found, you cannot use this as an underlying learner.\")\n",
      "/cw/dtaijupiter/NoCsBack/dtai/elia/mercs/src/mercs/algo/induction.py:39: UserWarning: catboost not found, you cannot use this as an underlying learner.\n",
      "  warnings.warn(\"catboost not found, you cannot use this as an underlying learner.\")\n",
      "/cw/dtaijupiter/NoCsBack/dtai/elia/mercs/src/mercs/algo/induction.py:46: UserWarning: wekalearn not found, you cannot use this as an underlying learner.\n",
      "  warnings.warn(\"wekalearn not found, you cannot use this as an underlying learner.\")\n",
      "/cw/dtaijupiter/NoCsBack/dtai/elia/mercs/src/mercs/composition/CanonicalModel.py:12: UserWarning: catboost not found, you cannot use this as an underlying learner.\n",
      "  warnings.warn(\"catboost not found, you cannot use this as an underlying learner.\")\n"
     ]
    }
   ],
   "source": [
    "import mercs\n",
    "import numpy as np\n",
    "from mercs.tests import load_iris, default_dataset\n",
    "from mercs.core import Mercs\n",
    "\n",
    "import pandas as pd"
   ]
  },
  {
   "cell_type": "markdown",
   "metadata": {
    "Collapsed": "false"
   },
   "source": [
    "## Fit\n",
    "\n",
    "Here a small MERCS testdrive for what I suppose you'll need. First, let us generate a basic dataset. Some utility-functions are integrated in MERCS so that goes like this"
   ]
  },
  {
   "cell_type": "code",
   "execution_count": 2,
   "metadata": {
    "Collapsed": "false"
   },
   "outputs": [
    {
     "data": {
      "text/html": [
       "<div>\n",
       "<style scoped>\n",
       "    .dataframe tbody tr th:only-of-type {\n",
       "        vertical-align: middle;\n",
       "    }\n",
       "\n",
       "    .dataframe tbody tr th {\n",
       "        vertical-align: top;\n",
       "    }\n",
       "\n",
       "    .dataframe thead th {\n",
       "        text-align: right;\n",
       "    }\n",
       "</style>\n",
       "<table border=\"1\" class=\"dataframe\">\n",
       "  <thead>\n",
       "    <tr style=\"text-align: right;\">\n",
       "      <th></th>\n",
       "      <th>0</th>\n",
       "      <th>1</th>\n",
       "      <th>2</th>\n",
       "      <th>3</th>\n",
       "    </tr>\n",
       "  </thead>\n",
       "  <tbody>\n",
       "    <tr>\n",
       "      <th>0</th>\n",
       "      <td>-0.878999</td>\n",
       "      <td>0.372105</td>\n",
       "      <td>-0.177663</td>\n",
       "      <td>0.0</td>\n",
       "    </tr>\n",
       "    <tr>\n",
       "      <th>1</th>\n",
       "      <td>-1.007950</td>\n",
       "      <td>-0.196467</td>\n",
       "      <td>-1.271123</td>\n",
       "      <td>1.0</td>\n",
       "    </tr>\n",
       "    <tr>\n",
       "      <th>2</th>\n",
       "      <td>0.343341</td>\n",
       "      <td>0.209659</td>\n",
       "      <td>-0.446280</td>\n",
       "      <td>0.0</td>\n",
       "    </tr>\n",
       "    <tr>\n",
       "      <th>3</th>\n",
       "      <td>-2.361662</td>\n",
       "      <td>-0.600424</td>\n",
       "      <td>-1.301522</td>\n",
       "      <td>0.0</td>\n",
       "    </tr>\n",
       "    <tr>\n",
       "      <th>4</th>\n",
       "      <td>-2.123507</td>\n",
       "      <td>0.246505</td>\n",
       "      <td>-1.323388</td>\n",
       "      <td>0.0</td>\n",
       "    </tr>\n",
       "  </tbody>\n",
       "</table>\n",
       "</div>"
      ],
      "text/plain": [
       "          0         1         2    3\n",
       "0 -0.878999  0.372105 -0.177663  0.0\n",
       "1 -1.007950 -0.196467 -1.271123  1.0\n",
       "2  0.343341  0.209659 -0.446280  0.0\n",
       "3 -2.361662 -0.600424 -1.301522  0.0\n",
       "4 -2.123507  0.246505 -1.323388  0.0"
      ]
     },
     "execution_count": 2,
     "metadata": {},
     "output_type": "execute_result"
    }
   ],
   "source": [
    "train, test = default_dataset(n_features=3)\n",
    "\n",
    "df = pd.DataFrame(train)\n",
    "df.head()"
   ]
  },
  {
   "cell_type": "code",
   "execution_count": 3,
   "metadata": {
    "Collapsed": "false"
   },
   "outputs": [
    {
     "data": {
      "text/html": [
       "<div>\n",
       "<style scoped>\n",
       "    .dataframe tbody tr th:only-of-type {\n",
       "        vertical-align: middle;\n",
       "    }\n",
       "\n",
       "    .dataframe tbody tr th {\n",
       "        vertical-align: top;\n",
       "    }\n",
       "\n",
       "    .dataframe thead th {\n",
       "        text-align: right;\n",
       "    }\n",
       "</style>\n",
       "<table border=\"1\" class=\"dataframe\">\n",
       "  <thead>\n",
       "    <tr style=\"text-align: right;\">\n",
       "      <th></th>\n",
       "      <th>0</th>\n",
       "      <th>1</th>\n",
       "      <th>2</th>\n",
       "      <th>3</th>\n",
       "    </tr>\n",
       "  </thead>\n",
       "  <tbody>\n",
       "    <tr>\n",
       "      <th>count</th>\n",
       "      <td>800.000000</td>\n",
       "      <td>800.000000</td>\n",
       "      <td>800.000000</td>\n",
       "      <td>800.000000</td>\n",
       "    </tr>\n",
       "    <tr>\n",
       "      <th>mean</th>\n",
       "      <td>-0.026556</td>\n",
       "      <td>0.023105</td>\n",
       "      <td>-0.032320</td>\n",
       "      <td>0.495000</td>\n",
       "    </tr>\n",
       "    <tr>\n",
       "      <th>std</th>\n",
       "      <td>1.414683</td>\n",
       "      <td>0.982609</td>\n",
       "      <td>1.351052</td>\n",
       "      <td>0.500288</td>\n",
       "    </tr>\n",
       "    <tr>\n",
       "      <th>min</th>\n",
       "      <td>-4.543441</td>\n",
       "      <td>-3.019512</td>\n",
       "      <td>-3.836929</td>\n",
       "      <td>0.000000</td>\n",
       "    </tr>\n",
       "    <tr>\n",
       "      <th>25%</th>\n",
       "      <td>-1.074982</td>\n",
       "      <td>-0.629842</td>\n",
       "      <td>-1.040769</td>\n",
       "      <td>0.000000</td>\n",
       "    </tr>\n",
       "    <tr>\n",
       "      <th>50%</th>\n",
       "      <td>-0.237825</td>\n",
       "      <td>0.000368</td>\n",
       "      <td>-0.180885</td>\n",
       "      <td>0.000000</td>\n",
       "    </tr>\n",
       "    <tr>\n",
       "      <th>75%</th>\n",
       "      <td>0.972748</td>\n",
       "      <td>0.668419</td>\n",
       "      <td>1.005200</td>\n",
       "      <td>1.000000</td>\n",
       "    </tr>\n",
       "    <tr>\n",
       "      <th>max</th>\n",
       "      <td>4.020262</td>\n",
       "      <td>3.926238</td>\n",
       "      <td>3.994644</td>\n",
       "      <td>1.000000</td>\n",
       "    </tr>\n",
       "  </tbody>\n",
       "</table>\n",
       "</div>"
      ],
      "text/plain": [
       "                0           1           2           3\n",
       "count  800.000000  800.000000  800.000000  800.000000\n",
       "mean    -0.026556    0.023105   -0.032320    0.495000\n",
       "std      1.414683    0.982609    1.351052    0.500288\n",
       "min     -4.543441   -3.019512   -3.836929    0.000000\n",
       "25%     -1.074982   -0.629842   -1.040769    0.000000\n",
       "50%     -0.237825    0.000368   -0.180885    0.000000\n",
       "75%      0.972748    0.668419    1.005200    1.000000\n",
       "max      4.020262    3.926238    3.994644    1.000000"
      ]
     },
     "execution_count": 3,
     "metadata": {},
     "output_type": "execute_result"
    }
   ],
   "source": [
    "df.describe()"
   ]
  },
  {
   "cell_type": "markdown",
   "metadata": {
    "Collapsed": "false"
   },
   "source": [
    "Now let's train a MERCS model. For induction, `nb_targets` and `nb_iterations` matter most. Number of targets speaks for itself, number of iterations manages the amount of trees _for each target_. With `n_jobs` you can do multi-core learning (with joblib, really basic, but works fine on single machine), that makes stuff faster. `fraction_missing` sets the amount of attributes that is missing for a tree. However, this parameter only has an effect if you use the `random` selection algorithm. The alternative is the `base` algorithm, which selects targets, and uses all the rest as input.\n",
    "\n",
    "A MERCS model accepts the following explicit arguments:\n",
    " - **selection_algorithm(str)**: Optional. Default value: base.\n",
    "    - base\n",
    "    - random\n",
    " - **induction_algorithm(str)**: Optional. Default value: base.\n",
    "    - base\n",
    "    - expand\n",
    " - **classifier_algorithm(str)**: Optional. Default value: DT.\n",
    "    - DT: Decision Tree\n",
    "    - DDT: Decorated Decision Tree\n",
    "    - RF: Random Forest\n",
    "    - DRF: Decorated Random Forest\n",
    "    - XGB: XGBoost\n",
    "    - weka: weka\n",
    "    - LGBM: LightGBM\n",
    "    - CB: CatBoost\n",
    "    - Extra: Extra Trees\n",
    " - **regressor_algorithm(str)**: Optional. Default value: DT.\n",
    "    - DT: Decision Tree\n",
    "    - DDT: Decorated Decision Tree\n",
    "    - RF: Random Forest\n",
    "    - DRF: Decorated Random Forest\n",
    "    - XGB: XGBoost\n",
    "    - weka: weka\n",
    "    - LGBM: LightGBM\n",
    "    - CB: CatBoost\n",
    "    - Extra: Extra Trees\n",
    " - **prediction_algorithm(str)**: Optional. Default value: mi.\n",
    "    - mi\n",
    "    - mrai\n",
    "    - it\n",
    "    - rw\n",
    " - **inference_algorithm(str)**: Optional. Default value: own.\n",
    "    - base\n",
    "    - dask/own\n",
    " - **imputer_algorithm(str)**: Optional. Default value: default.\n",
    "    - base/default = (skl)\n",
    "    - NaN\n",
    " - **evaluation_algorithm(str)**: Optional. Default value: default.\n",
    "    - base/default\n",
    "    - dummy\n",
    " - **random_state(int)**: Optional. Default value: 42.\n",
    " - **use_mixed_forest(boolean)**: Optional. Default value: False.\n",
    "\n",
    "In addition, the model is able to parse the following implicit arguments:\n",
    " - **nominal_attributes(obj)**: Object containing the indices of the nominal variables present in the data. Optional.\n",
    " - **nb_targets(int)**: Number of targets.\n",
    " - **nb_iterations(int)**: Number of trees for each target.\n",
    " - **n_jobs(int)**: Number of jobs for multi-core learning.\n",
    " - **verbose(int)**: Extra logging.\n",
    "    - 0: Off\n",
    "    - 1: On\n",
    " - **max_steps(int)**: Maximum number of steps when predicting.\n",
    " - **max_depth(int)**: Maximum depth of the trees.\n",
    " - **fraction_missing(float)**: Percentage of values missing from a tree. Only relevant if using the random selection algorithm."
   ]
  },
  {
   "cell_type": "code",
   "execution_count": 4,
   "metadata": {
    "Collapsed": "false",
    "pycharm": {
     "name": "#%%\n"
    }
   },
   "outputs": [],
   "source": [
    "clf = Mercs(\n",
    "    max_depth=4,\n",
    "    selection_algorithm=\"random\",\n",
    "    fraction_missing=0.6,\n",
    "    nb_targets=2,\n",
    "    nb_iterations=2,\n",
    "    n_jobs=1,\n",
    "    verbose=1,\n",
    "    inference_algorithm=\"own\",\n",
    "    max_steps=8,\n",
    "    prediction_algorithm=\"it\",\n",
    ")"
   ]
  },
  {
   "cell_type": "markdown",
   "metadata": {
    "Collapsed": "false"
   },
   "source": [
    "You have to specify the nominal attributes yourself. This determines whether a regressor or a classifier is learned for that target. MERCS takes care of grouping targets such that no mixed sets are created."
   ]
  },
  {
   "cell_type": "code",
   "execution_count": 5,
   "metadata": {
    "Collapsed": "false"
   },
   "outputs": [
    {
     "data": {
      "text/plain": [
       "{3}"
      ]
     },
     "execution_count": 5,
     "metadata": {},
     "output_type": "execute_result"
    }
   ],
   "source": [
    "nominal_ids = {train.shape[1]-1}\n",
    "nominal_ids"
   ]
  },
  {
   "cell_type": "code",
   "execution_count": 6,
   "metadata": {
    "Collapsed": "false"
   },
   "outputs": [],
   "source": [
    "clf.fit(train, nominal_attributes=nominal_ids)"
   ]
  },
  {
   "cell_type": "markdown",
   "metadata": {
    "Collapsed": "false"
   },
   "source": [
    "So, now we have learned trees with two targets, but only a single target was nominal. If MERCS worked well, it should have learned single-target classifiers (for attribute 4) and multi-target regressors for all other target sets."
   ]
  },
  {
   "cell_type": "code",
   "execution_count": 7,
   "metadata": {
    "Collapsed": "false"
   },
   "outputs": [
    {
     "name": "stdout",
     "output_type": "stream",
     "text": [
      "\n",
      "    Model with index: 0\n",
      "    DecisionTreeRegressor(criterion='mse', max_depth=4, max_features=None,\n",
      "                      max_leaf_nodes=None, min_impurity_decrease=0.0,\n",
      "                      min_impurity_split=None, min_samples_leaf=1,\n",
      "                      min_samples_split=2, min_weight_fraction_leaf=0.0,\n",
      "                      presort=False, random_state=121958, splitter='best')\n",
      "    \n",
      "\n",
      "    Model with index: 1\n",
      "    DecisionTreeRegressor(criterion='mse', max_depth=4, max_features=None,\n",
      "                      max_leaf_nodes=None, min_impurity_decrease=0.0,\n",
      "                      min_impurity_split=None, min_samples_leaf=1,\n",
      "                      min_samples_split=2, min_weight_fraction_leaf=0.0,\n",
      "                      presort=False, random_state=671155, splitter='best')\n",
      "    \n",
      "\n",
      "    Model with index: 2\n",
      "    DecisionTreeRegressor(criterion='mse', max_depth=4, max_features=None,\n",
      "                      max_leaf_nodes=None, min_impurity_decrease=0.0,\n",
      "                      min_impurity_split=None, min_samples_leaf=1,\n",
      "                      min_samples_split=2, min_weight_fraction_leaf=0.0,\n",
      "                      presort=False, random_state=131932, splitter='best')\n",
      "    \n",
      "\n",
      "    Model with index: 3\n",
      "    DecisionTreeRegressor(criterion='mse', max_depth=4, max_features=None,\n",
      "                      max_leaf_nodes=None, min_impurity_decrease=0.0,\n",
      "                      min_impurity_split=None, min_samples_leaf=1,\n",
      "                      min_samples_split=2, min_weight_fraction_leaf=0.0,\n",
      "                      presort=False, random_state=365838, splitter='best')\n",
      "    \n",
      "\n",
      "    Model with index: 4\n",
      "    DecisionTreeClassifier(class_weight=None, criterion='gini', max_depth=4,\n",
      "                       max_features=None, max_leaf_nodes=None,\n",
      "                       min_impurity_decrease=0.0, min_impurity_split=None,\n",
      "                       min_samples_leaf=1, min_samples_split=2,\n",
      "                       min_weight_fraction_leaf=0.0, presort=False,\n",
      "                       random_state=259178, splitter='best')\n",
      "    \n",
      "\n",
      "    Model with index: 5\n",
      "    DecisionTreeClassifier(class_weight=None, criterion='gini', max_depth=4,\n",
      "                       max_features=None, max_leaf_nodes=None,\n",
      "                       min_impurity_decrease=0.0, min_impurity_split=None,\n",
      "                       min_samples_leaf=1, min_samples_split=2,\n",
      "                       min_weight_fraction_leaf=0.0, presort=False,\n",
      "                       random_state=644167, splitter='best')\n",
      "    \n"
     ]
    }
   ],
   "source": [
    "for idx, m in enumerate(clf.m_list):\n",
    "    msg = \"\"\"\n",
    "    Model with index: {}\n",
    "    {}\n",
    "    \"\"\".format(idx, m.model)\n",
    "    print(msg)"
   ]
  },
  {
   "cell_type": "markdown",
   "metadata": {
    "Collapsed": "false"
   },
   "source": [
    "So, that looks good already. Let's examine up close."
   ]
  },
  {
   "cell_type": "code",
   "execution_count": 8,
   "metadata": {
    "Collapsed": "false"
   },
   "outputs": [
    {
     "data": {
      "text/plain": [
       "array([[ 0,  1,  1, -1],\n",
       "       [ 1,  1,  0,  0],\n",
       "       [ 1,  1, -1,  0],\n",
       "       [ 1,  0,  1, -1],\n",
       "       [ 0, -1, -1,  1],\n",
       "       [-1,  0, -1,  1]])"
      ]
     },
     "execution_count": 8,
     "metadata": {},
     "output_type": "execute_result"
    }
   ],
   "source": [
    "clf.m_codes"
   ]
  },
  {
   "cell_type": "markdown",
   "metadata": {
    "Collapsed": "false"
   },
   "source": [
    "That's the matrix that summarizes everything. This can be dense to parse, and there's alternatives to gain insights, for instance;"
   ]
  },
  {
   "cell_type": "code",
   "execution_count": 9,
   "metadata": {
    "Collapsed": "false"
   },
   "outputs": [
    {
     "name": "stdout",
     "output_type": "stream",
     "text": [
      "\n",
      "    Tree with id:          0\n",
      "    has source attributes: [0]\n",
      "    has target attributes: [1, 2],\n",
      "    and predicts numeric attributes\n",
      "    \n",
      "\n",
      "    Tree with id:          1\n",
      "    has source attributes: [2, 3]\n",
      "    has target attributes: [0, 1],\n",
      "    and predicts numeric attributes\n",
      "    \n",
      "\n",
      "    Tree with id:          2\n",
      "    has source attributes: [3]\n",
      "    has target attributes: [0, 1],\n",
      "    and predicts numeric attributes\n",
      "    \n",
      "\n",
      "    Tree with id:          3\n",
      "    has source attributes: [1]\n",
      "    has target attributes: [0, 2],\n",
      "    and predicts numeric attributes\n",
      "    \n",
      "\n",
      "    Tree with id:          4\n",
      "    has source attributes: [0]\n",
      "    has target attributes: [3],\n",
      "    and predicts nominal attributes\n",
      "    \n",
      "\n",
      "    Tree with id:          5\n",
      "    has source attributes: [1]\n",
      "    has target attributes: [3],\n",
      "    and predicts nominal attributes\n",
      "    \n"
     ]
    }
   ],
   "source": [
    "for m_idx, m in enumerate(clf.m_list):\n",
    "    msg = \"\"\"\n",
    "    Tree with id:          {}\n",
    "    has source attributes: {}\n",
    "    has target attributes: {},\n",
    "    and predicts {} attributes\n",
    "    \"\"\".format(m_idx, m.desc_ids, m.targ_ids, m.out_kind)\n",
    "    print(msg)"
   ]
  },
  {
   "cell_type": "markdown",
   "metadata": {
    "Collapsed": "false"
   },
   "source": [
    "And that concludes my quick tour of how to fit with MERCS."
   ]
  },
  {
   "cell_type": "markdown",
   "metadata": {
    "Collapsed": "false"
   },
   "source": [
    "## Prediction\n",
    "\n",
    "First, we generate a query."
   ]
  },
  {
   "cell_type": "code",
   "execution_count": 10,
   "metadata": {
    "Collapsed": "false"
   },
   "outputs": [
    {
     "name": "stdout",
     "output_type": "stream",
     "text": [
      "Query code is: [0 0 0 1]\n"
     ]
    },
    {
     "data": {
      "text/plain": [
       "array([0., 0., 0., 1., 0., 0., 1., 1., 1., 1.])"
      ]
     },
     "execution_count": 10,
     "metadata": {},
     "output_type": "execute_result"
    }
   ],
   "source": [
    "# Single target\n",
    "q_code=np.zeros(clf.m_codes[0].shape[0], dtype=int)\n",
    "q_code[-1:] = 1\n",
    "print(\"Query code is: {}\".format(q_code))\n",
    "\n",
    "y_pred = clf.predict(test, q_code=q_code)\n",
    "y_pred[:10]"
   ]
  },
  {
   "cell_type": "code",
   "execution_count": 11,
   "metadata": {
    "Collapsed": "false"
   },
   "outputs": [
    {
     "data": {
      "image/svg+xml": [
       "<svg height=\"188pt\" viewBox=\"0.00 0.00 82.09 188.00\" width=\"82pt\" xmlns=\"http://www.w3.org/2000/svg\" xmlns:xlink=\"http://www.w3.org/1999/xlink\">\n",
       "<g class=\"graph\" id=\"graph0\" transform=\"scale(1 1) rotate(0) translate(4 184)\">\n",
       "<title>G</title>\n",
       "<polygon fill=\"#ffffff\" points=\"-4,4 -4,-184 78.0934,-184 78.0934,4 -4,4\" stroke=\"transparent\"/>\n",
       "<!-- (&#39;D&#39;, 0) -->\n",
       "<g class=\"node\" id=\"node1\">\n",
       "<title>('D', 0)</title>\n",
       "<ellipse cx=\"37.0467\" cy=\"-18\" fill=\"none\" rx=\"35.194\" ry=\"18\" stroke=\"#000000\"/>\n",
       "<text fill=\"#000000\" font-family=\"Times,serif\" font-size=\"14.00\" text-anchor=\"middle\" x=\"37.0467\" y=\"-14.3\">('D', 0)</text>\n",
       "</g>\n",
       "<!-- (&#39;M&#39;, 4) -->\n",
       "<g class=\"node\" id=\"node2\">\n",
       "<title>('M', 4)</title>\n",
       "<ellipse cx=\"37.0467\" cy=\"-90\" fill=\"none\" rx=\"37.0935\" ry=\"18\" stroke=\"#000000\"/>\n",
       "<text fill=\"#000000\" font-family=\"Times,serif\" font-size=\"14.00\" text-anchor=\"middle\" x=\"37.0467\" y=\"-86.3\">('M', 4)</text>\n",
       "</g>\n",
       "<!-- (&#39;D&#39;, 0)&#45;&gt;(&#39;M&#39;, 4) -->\n",
       "<g class=\"edge\" id=\"edge1\">\n",
       "<title>('D', 0)-&gt;('M', 4)</title>\n",
       "<path d=\"M37.0467,-36.1686C37.0467,-43.869 37.0467,-53.0257 37.0467,-61.5834\" fill=\"none\" stroke=\"#000000\"/>\n",
       "<polygon fill=\"#000000\" points=\"33.5468,-61.5867 37.0467,-71.5867 40.5468,-61.5868 33.5468,-61.5867\" stroke=\"#000000\"/>\n",
       "</g>\n",
       "<!-- (&#39;D&#39;, 3) -->\n",
       "<g class=\"node\" id=\"node3\">\n",
       "<title>('D', 3)</title>\n",
       "<ellipse cx=\"37.0467\" cy=\"-162\" fill=\"none\" rx=\"35.194\" ry=\"18\" stroke=\"#000000\"/>\n",
       "<text fill=\"#000000\" font-family=\"Times,serif\" font-size=\"14.00\" text-anchor=\"middle\" x=\"37.0467\" y=\"-158.3\">('D', 3)</text>\n",
       "</g>\n",
       "<!-- (&#39;M&#39;, 4)&#45;&gt;(&#39;D&#39;, 3) -->\n",
       "<g class=\"edge\" id=\"edge2\">\n",
       "<title>('M', 4)-&gt;('D', 3)</title>\n",
       "<path d=\"M37.0467,-108.1686C37.0467,-115.869 37.0467,-125.0257 37.0467,-133.5834\" fill=\"none\" stroke=\"#000000\"/>\n",
       "<polygon fill=\"#000000\" points=\"33.5468,-133.5867 37.0467,-143.5867 40.5468,-133.5868 33.5468,-133.5867\" stroke=\"#000000\"/>\n",
       "</g>\n",
       "</g>\n",
       "</svg>"
      ],
      "text/plain": [
       "<IPython.core.display.SVG object>"
      ]
     },
     "metadata": {},
     "output_type": "display_data"
    }
   ],
   "source": [
    "clf.show_q_diagram()"
   ]
  },
  {
   "cell_type": "code",
   "execution_count": 12,
   "metadata": {
    "Collapsed": "false"
   },
   "outputs": [
    {
     "name": "stdout",
     "output_type": "stream",
     "text": [
      "Query code is: [0 0 1 1]\n"
     ]
    },
    {
     "data": {
      "text/plain": [
       "array([[ 0.15161875,  0.        ],\n",
       "       [-0.07064853,  0.        ],\n",
       "       [ 0.15161875,  0.        ],\n",
       "       [ 0.21392281,  1.        ],\n",
       "       [ 0.03979332,  0.        ],\n",
       "       [-0.20459606,  0.        ],\n",
       "       [ 0.21392281,  1.        ],\n",
       "       [-0.20459606,  1.        ],\n",
       "       [-0.31503791,  1.        ],\n",
       "       [-0.17568144,  1.        ]])"
      ]
     },
     "execution_count": 12,
     "metadata": {},
     "output_type": "execute_result"
    }
   ],
   "source": [
    "# Multi-target\n",
    "q_code=np.zeros(clf.m_codes[0].shape[0], dtype=int)\n",
    "q_code[-2:] = 1\n",
    "print(\"Query code is: {}\".format(q_code))\n",
    "\n",
    "y_pred = clf.predict(test, q_code=q_code)\n",
    "y_pred[:10]"
   ]
  },
  {
   "cell_type": "code",
   "execution_count": 13,
   "metadata": {
    "Collapsed": "false"
   },
   "outputs": [
    {
     "data": {
      "image/svg+xml": [
       "<svg height=\"188pt\" viewBox=\"0.00 0.00 266.09 188.00\" width=\"266pt\" xmlns=\"http://www.w3.org/2000/svg\" xmlns:xlink=\"http://www.w3.org/1999/xlink\">\n",
       "<g class=\"graph\" id=\"graph0\" transform=\"scale(1 1) rotate(0) translate(4 184)\">\n",
       "<title>G</title>\n",
       "<polygon fill=\"#ffffff\" points=\"-4,4 -4,-184 262.0934,-184 262.0934,4 -4,4\" stroke=\"transparent\"/>\n",
       "<!-- (&#39;D&#39;, 0) -->\n",
       "<g class=\"node\" id=\"node1\">\n",
       "<title>('D', 0)</title>\n",
       "<ellipse cx=\"83.0467\" cy=\"-18\" fill=\"none\" rx=\"35.194\" ry=\"18\" stroke=\"#000000\"/>\n",
       "<text fill=\"#000000\" font-family=\"Times,serif\" font-size=\"14.00\" text-anchor=\"middle\" x=\"83.0467\" y=\"-14.3\">('D', 0)</text>\n",
       "</g>\n",
       "<!-- (&#39;M&#39;, 4) -->\n",
       "<g class=\"node\" id=\"node2\">\n",
       "<title>('M', 4)</title>\n",
       "<ellipse cx=\"37.0467\" cy=\"-90\" fill=\"none\" rx=\"37.0935\" ry=\"18\" stroke=\"#000000\"/>\n",
       "<text fill=\"#000000\" font-family=\"Times,serif\" font-size=\"14.00\" text-anchor=\"middle\" x=\"37.0467\" y=\"-86.3\">('M', 4)</text>\n",
       "</g>\n",
       "<!-- (&#39;D&#39;, 0)&#45;&gt;(&#39;M&#39;, 4) -->\n",
       "<g class=\"edge\" id=\"edge1\">\n",
       "<title>('D', 0)-&gt;('M', 4)</title>\n",
       "<path d=\"M71.9114,-35.4292C66.4306,-44.0078 59.7121,-54.5238 53.6407,-64.0268\" fill=\"none\" stroke=\"#000000\"/>\n",
       "<polygon fill=\"#000000\" points=\"50.514,-62.42 48.0795,-72.7313 56.4129,-66.1887 50.514,-62.42\" stroke=\"#000000\"/>\n",
       "</g>\n",
       "<!-- (&#39;M&#39;, 0) -->\n",
       "<g class=\"node\" id=\"node4\">\n",
       "<title>('M', 0)</title>\n",
       "<ellipse cx=\"129.0467\" cy=\"-90\" fill=\"none\" rx=\"37.0935\" ry=\"18\" stroke=\"#000000\"/>\n",
       "<text fill=\"#000000\" font-family=\"Times,serif\" font-size=\"14.00\" text-anchor=\"middle\" x=\"129.0467\" y=\"-86.3\">('M', 0)</text>\n",
       "</g>\n",
       "<!-- (&#39;D&#39;, 0)&#45;&gt;(&#39;M&#39;, 0) -->\n",
       "<g class=\"edge\" id=\"edge2\">\n",
       "<title>('D', 0)-&gt;('M', 0)</title>\n",
       "<path d=\"M94.182,-35.4292C99.6628,-44.0078 106.3813,-54.5238 112.4527,-64.0268\" fill=\"none\" stroke=\"#000000\"/>\n",
       "<polygon fill=\"#000000\" points=\"109.6806,-66.1887 118.0139,-72.7313 115.5794,-62.42 109.6806,-66.1887\" stroke=\"#000000\"/>\n",
       "</g>\n",
       "<!-- (&#39;D&#39;, 3) -->\n",
       "<g class=\"node\" id=\"node3\">\n",
       "<title>('D', 3)</title>\n",
       "<ellipse cx=\"37.0467\" cy=\"-162\" fill=\"none\" rx=\"35.194\" ry=\"18\" stroke=\"#000000\"/>\n",
       "<text fill=\"#000000\" font-family=\"Times,serif\" font-size=\"14.00\" text-anchor=\"middle\" x=\"37.0467\" y=\"-158.3\">('D', 3)</text>\n",
       "</g>\n",
       "<!-- (&#39;M&#39;, 4)&#45;&gt;(&#39;D&#39;, 3) -->\n",
       "<g class=\"edge\" id=\"edge3\">\n",
       "<title>('M', 4)-&gt;('D', 3)</title>\n",
       "<path d=\"M37.0467,-108.1686C37.0467,-115.869 37.0467,-125.0257 37.0467,-133.5834\" fill=\"none\" stroke=\"#000000\"/>\n",
       "<polygon fill=\"#000000\" points=\"33.5468,-133.5867 37.0467,-143.5867 40.5468,-133.5868 33.5468,-133.5867\" stroke=\"#000000\"/>\n",
       "</g>\n",
       "<!-- (&#39;D&#39;, 2) -->\n",
       "<g class=\"node\" id=\"node7\">\n",
       "<title>('D', 2)</title>\n",
       "<ellipse cx=\"175.0467\" cy=\"-162\" fill=\"none\" rx=\"35.194\" ry=\"18\" stroke=\"#000000\"/>\n",
       "<text fill=\"#000000\" font-family=\"Times,serif\" font-size=\"14.00\" text-anchor=\"middle\" x=\"175.0467\" y=\"-158.3\">('D', 2)</text>\n",
       "</g>\n",
       "<!-- (&#39;M&#39;, 0)&#45;&gt;(&#39;D&#39;, 2) -->\n",
       "<g class=\"edge\" id=\"edge4\">\n",
       "<title>('M', 0)-&gt;('D', 2)</title>\n",
       "<path d=\"M140.182,-107.4292C145.6628,-116.0078 152.3813,-126.5238 158.4527,-136.0268\" fill=\"none\" stroke=\"#000000\"/>\n",
       "<polygon fill=\"#000000\" points=\"155.6806,-138.1887 164.0139,-144.7313 161.5794,-134.42 155.6806,-138.1887\" stroke=\"#000000\"/>\n",
       "</g>\n",
       "<!-- (&#39;D&#39;, 1) -->\n",
       "<g class=\"node\" id=\"node5\">\n",
       "<title>('D', 1)</title>\n",
       "<ellipse cx=\"221.0467\" cy=\"-18\" fill=\"none\" rx=\"35.194\" ry=\"18\" stroke=\"#000000\"/>\n",
       "<text fill=\"#000000\" font-family=\"Times,serif\" font-size=\"14.00\" text-anchor=\"middle\" x=\"221.0467\" y=\"-14.3\">('D', 1)</text>\n",
       "</g>\n",
       "<!-- (&#39;M&#39;, 3) -->\n",
       "<g class=\"node\" id=\"node6\">\n",
       "<title>('M', 3)</title>\n",
       "<ellipse cx=\"221.0467\" cy=\"-90\" fill=\"none\" rx=\"37.0935\" ry=\"18\" stroke=\"#000000\"/>\n",
       "<text fill=\"#000000\" font-family=\"Times,serif\" font-size=\"14.00\" text-anchor=\"middle\" x=\"221.0467\" y=\"-86.3\">('M', 3)</text>\n",
       "</g>\n",
       "<!-- (&#39;D&#39;, 1)&#45;&gt;(&#39;M&#39;, 3) -->\n",
       "<g class=\"edge\" id=\"edge5\">\n",
       "<title>('D', 1)-&gt;('M', 3)</title>\n",
       "<path d=\"M221.0467,-36.1686C221.0467,-43.869 221.0467,-53.0257 221.0467,-61.5834\" fill=\"none\" stroke=\"#000000\"/>\n",
       "<polygon fill=\"#000000\" points=\"217.5468,-61.5867 221.0467,-71.5867 224.5468,-61.5868 217.5468,-61.5867\" stroke=\"#000000\"/>\n",
       "</g>\n",
       "<!-- (&#39;M&#39;, 3)&#45;&gt;(&#39;D&#39;, 2) -->\n",
       "<g class=\"edge\" id=\"edge6\">\n",
       "<title>('M', 3)-&gt;('D', 2)</title>\n",
       "<path d=\"M209.9114,-107.4292C204.4306,-116.0078 197.7121,-126.5238 191.6407,-136.0268\" fill=\"none\" stroke=\"#000000\"/>\n",
       "<polygon fill=\"#000000\" points=\"188.514,-134.42 186.0795,-144.7313 194.4129,-138.1887 188.514,-134.42\" stroke=\"#000000\"/>\n",
       "</g>\n",
       "</g>\n",
       "</svg>"
      ],
      "text/plain": [
       "<IPython.core.display.SVG object>"
      ]
     },
     "metadata": {},
     "output_type": "display_data"
    }
   ],
   "source": [
    "clf.show_q_diagram()"
   ]
  },
  {
   "cell_type": "code",
   "execution_count": 14,
   "metadata": {
    "Collapsed": "false"
   },
   "outputs": [
    {
     "name": "stdout",
     "output_type": "stream",
     "text": [
      "Query code is: [-1 -1  0  1]\n"
     ]
    },
    {
     "data": {
      "text/plain": [
       "array([0., 0., 0., 0., 0., 0., 0., 1., 1., 0.])"
      ]
     },
     "execution_count": 14,
     "metadata": {},
     "output_type": "execute_result"
    }
   ],
   "source": [
    "# Missing attributes\n",
    "q_code=np.zeros(clf.m_codes[0].shape[0], dtype=int)\n",
    "q_code[-1:] = 1\n",
    "q_code[:2] = -1\n",
    "print(\"Query code is: {}\".format(q_code))\n",
    "\n",
    "y_pred = clf.predict(test, q_code=q_code)\n",
    "y_pred[:10]"
   ]
  },
  {
   "cell_type": "code",
   "execution_count": 15,
   "metadata": {
    "Collapsed": "false"
   },
   "outputs": [
    {
     "data": {
      "image/svg+xml": [
       "<svg height=\"332pt\" viewBox=\"0.00 0.00 159.94 332.00\" width=\"160pt\" xmlns=\"http://www.w3.org/2000/svg\" xmlns:xlink=\"http://www.w3.org/1999/xlink\">\n",
       "<g class=\"graph\" id=\"graph0\" transform=\"scale(1 1) rotate(0) translate(4 328)\">\n",
       "<title>G</title>\n",
       "<polygon fill=\"#ffffff\" points=\"-4,4 -4,-328 155.9441,-328 155.9441,4 -4,4\" stroke=\"transparent\"/>\n",
       "<!-- (&#39;D&#39;, 2) -->\n",
       "<g class=\"node\" id=\"node1\">\n",
       "<title>('D', 2)</title>\n",
       "<ellipse cx=\"35.0969\" cy=\"-18\" fill=\"none\" rx=\"35.194\" ry=\"18\" stroke=\"#000000\"/>\n",
       "<text fill=\"#000000\" font-family=\"Times,serif\" font-size=\"14.00\" text-anchor=\"middle\" x=\"35.0969\" y=\"-14.3\">('D', 2)</text>\n",
       "</g>\n",
       "<!-- (&#39;M&#39;, 1) -->\n",
       "<g class=\"node\" id=\"node2\">\n",
       "<title>('M', 1)</title>\n",
       "<ellipse cx=\"77.0969\" cy=\"-90\" fill=\"none\" rx=\"37.0935\" ry=\"18\" stroke=\"#000000\"/>\n",
       "<text fill=\"#000000\" font-family=\"Times,serif\" font-size=\"14.00\" text-anchor=\"middle\" x=\"77.0969\" y=\"-86.3\">('M', 1)</text>\n",
       "</g>\n",
       "<!-- (&#39;D&#39;, 2)&#45;&gt;(&#39;M&#39;, 1) -->\n",
       "<g class=\"edge\" id=\"edge1\">\n",
       "<title>('D', 2)-&gt;('M', 1)</title>\n",
       "<path d=\"M45.2639,-35.4292C50.2313,-43.9447 56.3123,-54.3692 61.8235,-63.817\" fill=\"none\" stroke=\"#000000\"/>\n",
       "<polygon fill=\"#000000\" points=\"58.8159,-65.6075 66.8779,-72.4818 64.8624,-62.0804 58.8159,-65.6075\" stroke=\"#000000\"/>\n",
       "</g>\n",
       "<!-- (&#39;D&#39;, 0) -->\n",
       "<g class=\"node\" id=\"node4\">\n",
       "<title>('D', 0)</title>\n",
       "<ellipse cx=\"77.0969\" cy=\"-162\" fill=\"none\" rx=\"35.194\" ry=\"18\" stroke=\"#000000\"/>\n",
       "<text fill=\"#000000\" font-family=\"Times,serif\" font-size=\"14.00\" text-anchor=\"middle\" x=\"77.0969\" y=\"-158.3\">('D', 0)</text>\n",
       "</g>\n",
       "<!-- (&#39;M&#39;, 1)&#45;&gt;(&#39;D&#39;, 0) -->\n",
       "<g class=\"edge\" id=\"edge2\">\n",
       "<title>('M', 1)-&gt;('D', 0)</title>\n",
       "<path d=\"M77.0969,-108.1686C77.0969,-115.869 77.0969,-125.0257 77.0969,-133.5834\" fill=\"none\" stroke=\"#000000\"/>\n",
       "<polygon fill=\"#000000\" points=\"73.597,-133.5867 77.0969,-143.5867 80.597,-133.5868 73.597,-133.5867\" stroke=\"#000000\"/>\n",
       "</g>\n",
       "<!-- (&#39;I&#39;, 3) -->\n",
       "<g class=\"node\" id=\"node3\">\n",
       "<title>('I', 3)</title>\n",
       "<ellipse cx=\"120.0969\" cy=\"-18\" fill=\"none\" rx=\"31.6951\" ry=\"18\" stroke=\"#000000\"/>\n",
       "<text fill=\"#000000\" font-family=\"Times,serif\" font-size=\"14.00\" text-anchor=\"middle\" x=\"120.0969\" y=\"-14.3\">('I', 3)</text>\n",
       "</g>\n",
       "<!-- (&#39;I&#39;, 3)&#45;&gt;(&#39;M&#39;, 1) -->\n",
       "<g class=\"edge\" id=\"edge3\">\n",
       "<title>('I', 3)-&gt;('M', 1)</title>\n",
       "<path d=\"M109.9065,-35.063C104.7873,-43.6346 98.4723,-54.2086 92.754,-63.7835\" fill=\"none\" stroke=\"#000000\"/>\n",
       "<polygon fill=\"#000000\" points=\"89.6354,-62.1793 87.5128,-72.5593 95.6452,-65.7685 89.6354,-62.1793\" stroke=\"#000000\"/>\n",
       "</g>\n",
       "<!-- (&#39;M&#39;, 4) -->\n",
       "<g class=\"node\" id=\"node5\">\n",
       "<title>('M', 4)</title>\n",
       "<ellipse cx=\"77.0969\" cy=\"-234\" fill=\"none\" rx=\"37.0935\" ry=\"18\" stroke=\"#000000\"/>\n",
       "<text fill=\"#000000\" font-family=\"Times,serif\" font-size=\"14.00\" text-anchor=\"middle\" x=\"77.0969\" y=\"-230.3\">('M', 4)</text>\n",
       "</g>\n",
       "<!-- (&#39;D&#39;, 0)&#45;&gt;(&#39;M&#39;, 4) -->\n",
       "<g class=\"edge\" id=\"edge4\">\n",
       "<title>('D', 0)-&gt;('M', 4)</title>\n",
       "<path d=\"M77.0969,-180.1686C77.0969,-187.869 77.0969,-197.0257 77.0969,-205.5834\" fill=\"none\" stroke=\"#000000\"/>\n",
       "<polygon fill=\"#000000\" points=\"73.597,-205.5867 77.0969,-215.5867 80.597,-205.5868 73.597,-205.5867\" stroke=\"#000000\"/>\n",
       "</g>\n",
       "<!-- (&#39;D&#39;, 3) -->\n",
       "<g class=\"node\" id=\"node6\">\n",
       "<title>('D', 3)</title>\n",
       "<ellipse cx=\"77.0969\" cy=\"-306\" fill=\"none\" rx=\"35.194\" ry=\"18\" stroke=\"#000000\"/>\n",
       "<text fill=\"#000000\" font-family=\"Times,serif\" font-size=\"14.00\" text-anchor=\"middle\" x=\"77.0969\" y=\"-302.3\">('D', 3)</text>\n",
       "</g>\n",
       "<!-- (&#39;M&#39;, 4)&#45;&gt;(&#39;D&#39;, 3) -->\n",
       "<g class=\"edge\" id=\"edge5\">\n",
       "<title>('M', 4)-&gt;('D', 3)</title>\n",
       "<path d=\"M77.0969,-252.1686C77.0969,-259.869 77.0969,-269.0257 77.0969,-277.5834\" fill=\"none\" stroke=\"#000000\"/>\n",
       "<polygon fill=\"#000000\" points=\"73.597,-277.5867 77.0969,-287.5867 80.597,-277.5868 73.597,-277.5867\" stroke=\"#000000\"/>\n",
       "</g>\n",
       "</g>\n",
       "</svg>"
      ],
      "text/plain": [
       "<IPython.core.display.SVG object>"
      ]
     },
     "metadata": {},
     "output_type": "display_data"
    }
   ],
   "source": [
    "clf.show_q_diagram()"
   ]
  }
 ],
 "metadata": {
  "kernelspec": {
   "display_name": "rwrf",
   "language": "python",
   "name": "rwrf"
  },
  "language_info": {
   "codemirror_mode": {
    "name": "ipython",
    "version": 3
   },
   "file_extension": ".py",
   "mimetype": "text/x-python",
   "name": "python",
   "nbconvert_exporter": "python",
   "pygments_lexer": "ipython3",
   "version": "3.7.5"
  }
 },
 "nbformat": 4,
 "nbformat_minor": 4
}